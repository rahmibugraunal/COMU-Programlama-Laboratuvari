{
 "cells": [
  {
   "cell_type": "code",
   "execution_count": 84,
   "metadata": {},
   "outputs": [],
   "source": [
    "#Rahmi Buğra Ünal 170401051 Exponential Distribution"
    "#https://github.com/rahmibugraunal/COMU-Programlama-Laboratuvari/edit/master/odev3/hw_3.ipynb"
   ]
  },
  {
   "cell_type": "code",
   "execution_count": 1,
   "metadata": {},
   "outputs": [],
   "source": [
    "import sympy as sym                 \n",
    "from sympy import Symbol\n",
    "from sympy import pprint\n",
    "import matplotlib.pyplot as plt"
   ]
  },
  {
   "cell_type": "code",
   "execution_count": 5,
   "metadata": {},
   "outputs": [],
   "source": [
    "x = Symbol('x')\n",
    "lamda =Symbol('lambda') #x ve lamda(lambda)yı sembol olarak tanımladık."
   ]
  },
  {
   "cell_type": "code",
   "execution_count": 25,
   "metadata": {},
   "outputs": [
    {
     "data": {
      "text/latex": [
       "$\\displaystyle \\lambda x$"
      ],
      "text/plain": [
       "lambda*x"
      ]
     },
     "execution_count": 25,
     "metadata": {},
     "output_type": "execute_result"
    }
   ],
   "source": [
    "part1 = lamda*x #Üstel dağılım(Exponential Distribution) formülündeki e sayısının üssünü tanımladık.\n",
    "part1"
   ]
  },
  {
   "cell_type": "code",
   "execution_count": 26,
   "metadata": {},
   "outputs": [
    {
     "data": {
      "text/latex": [
       "$\\displaystyle e^{- \\lambda x}$"
      ],
      "text/plain": [
       "exp(-lambda*x)"
      ]
     },
     "execution_count": 26,
     "metadata": {},
     "output_type": "execute_result"
    }
   ],
   "source": [
    "part2= sym.exp(- part1) #exp() fonksiyonu ile daha önceden tanımladığımız part1 i e'nin üssü biçiminde yazdırıyoruz.\n",
    "part2\n",
    "#"
   ]
  },
  {
   "cell_type": "code",
   "execution_count": 12,
   "metadata": {},
   "outputs": [
    {
     "data": {
      "text/latex": [
       "$\\displaystyle \\lambda e^{- \\lambda x}$"
      ],
      "text/plain": [
       "lambda*exp(-lambda*x)"
      ]
     },
     "execution_count": 12,
     "metadata": {},
     "output_type": "execute_result"
    }
   ],
   "source": [
    "exp_dist = lamda*part2 #son olarak lamdayı da part2 ile çarpıp Exponential Distribution-Probability Density Function(Üstel Dağılım-Olasılık Yoğunluk Fonksiyonu) ı tanımladık. \n",
    "exp_dist"
   ]
  },
  {
   "cell_type": "code",
   "execution_count": 80,
   "metadata": {},
   "outputs": [
    {
     "data": {
      "image/png": "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\n",
      "text/plain": [
       "<Figure size 432x288 with 1 Axes>"
      ]
     },
     "metadata": {
      "needs_background": "light"
     },
     "output_type": "display_data"
    }
   ],
   "source": [
    "#lamda=0.5 ve x=(0,10) değer aralığı için grafiğimizi çizdirelim\n",
    "sym.plot(expdis.subs({lamda:0.5}),(x,0,10),title=\"Exponential Disturbiton\")\n",
    "plt.show()"
   ]
  },
  {
   "cell_type": "code",
   "execution_count": 81,
   "metadata": {},
   "outputs": [],
   "source": [
    "#x ve y eksenlerindeki değerleri tutmamız gerekecek.\n",
    "xdeger=[]\n",
    "ydeger=[]  \n",
    "#Bu nedenle 2 adet dizi boş dizi tanımladık."
   ]
  },
  {
   "cell_type": "code",
   "execution_count": 82,
   "metadata": {},
   "outputs": [
    {
     "name": "stdout",
     "output_type": "stream",
     "text": [
      "0 0.500000000000000\n",
      "1 0.303265329856317\n",
      "2 0.183939720585721\n",
      "3 0.111565080074215\n",
      "4 0.0676676416183064\n",
      "5 0.0410424993119494\n",
      "6 0.0248935341839320\n",
      "7 0.0150986917111593\n",
      "8 0.00915781944436709\n",
      "9 0.00555449826912115\n",
      "10 0.00336897349954273\n"
     ]
    }
   ],
   "source": [
    "#Şimdi de x ve y değerlerini eşleştirmemizi sağlayacak bir for döngüsü yazalım.\n",
    "for i in range(11):            \n",
    "    y = exp_dist.subs({lamda:0.5, x: i}).evalf() #lamda=1 iken x e karşılık gelen y değerlerimiz aldık. \n",
    "    ydeger.append(y) #bu y değerlerini ydeger listemize \n",
    "    xdeger.append(i) #i değerlerini de xdeger listemize gönderdik.\n",
    "    print(i,y) #değerlerimizi yazdırıyoruz."
   ]
  },
  {
   "cell_type": "code",
   "execution_count": 83,
   "metadata": {},
   "outputs": [
    {
     "data": {
      "text/plain": [
       "[<matplotlib.lines.Line2D at 0x13c239f47c8>]"
      ]
     },
     "execution_count": 83,
     "metadata": {},
     "output_type": "execute_result"
    },
    {
     "data": {
      "image/png": "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\n",
      "text/plain": [
       "<Figure size 432x288 with 1 Axes>"
      ]
     },
     "metadata": {
      "needs_background": "light"
     },
     "output_type": "display_data"
    }
   ],
   "source": [
    "plt.plot(xdeger,ydeger)#Son olarak matplotlib çizim kütüphanesini kullanarak grafiğimizi elde ederiz."
   ]
  },
  {
   "cell_type": "code",
   "execution_count": null,
   "metadata": {},
   "outputs": [],
   "source": []
  }
 ],
 "metadata": {
  "kernelspec": {
   "display_name": "Python 3",
   "language": "python",
   "name": "python3"
  },
  "language_info": {
   "codemirror_mode": {
    "name": "ipython",
    "version": 3
   },
   "file_extension": ".py",
   "mimetype": "text/x-python",
   "name": "python",
   "nbconvert_exporter": "python",
   "pygments_lexer": "ipython3",
   "version": "3.7.6"
  }
 },
 "nbformat": 4,
 "nbformat_minor": 4
}
