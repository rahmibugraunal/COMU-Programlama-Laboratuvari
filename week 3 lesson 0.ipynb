{
 "cells": [
  {
   "cell_type": "code",
   "execution_count": 22,
   "metadata": {},
   "outputs": [],
   "source": [
    "import sympy as sym\n",
    "from sympy import Symbol\n",
    "from sympy import pprint"
   ]
  },
  {
   "cell_type": "code",
   "execution_count": 23,
   "metadata": {},
   "outputs": [],
   "source": [
    "p=Symbol('p')\n",
    "x=Symbol('x')\n",
    "n=Symbol('n')"
   ]
  },
  {
   "cell_type": "code",
   "execution_count": 24,
   "metadata": {},
   "outputs": [
    {
     "name": "stdout",
     "output_type": "stream",
     "text": [
      "factorial(n)/(factorial(x)*factorial(n - x))\n"
     ]
    }
   ],
   "source": [
    "my_f_3_part_0=sym.factorial(n)/(sym.factorial(x)*sym.factorial(n-x))\n",
    "print(my_f_3_part_0)"
   ]
  },
  {
   "cell_type": "code",
   "execution_count": 25,
   "metadata": {},
   "outputs": [
    {
     "name": "stdout",
     "output_type": "stream",
     "text": [
      "     n!    \n",
      "───────────\n",
      "x!⋅(n - x)!\n"
     ]
    }
   ],
   "source": [
    "pprint(my_f_3_part_0)"
   ]
  },
  {
   "cell_type": "code",
   "execution_count": 26,
   "metadata": {},
   "outputs": [
    {
     "name": "stdout",
     "output_type": "stream",
     "text": [
      "p**x\n"
     ]
    }
   ],
   "source": [
    "my_f_3_part_1=p**x\n",
    "print(my_f_3_part_1)"
   ]
  },
  {
   "cell_type": "code",
   "execution_count": 27,
   "metadata": {},
   "outputs": [
    {
     "name": "stdout",
     "output_type": "stream",
     "text": [
      " x\n",
      "p \n"
     ]
    }
   ],
   "source": [
    "pprint(my_f_3_part_1)"
   ]
  },
  {
   "cell_type": "code",
   "execution_count": 28,
   "metadata": {},
   "outputs": [
    {
     "name": "stdout",
     "output_type": "stream",
     "text": [
      "(1 - p)**(n - x)\n"
     ]
    }
   ],
   "source": [
    "my_f_3_part_2=(1-p)**(n-x)\n",
    "print(my_f_3_part_2)"
   ]
  },
  {
   "cell_type": "code",
   "execution_count": 29,
   "metadata": {},
   "outputs": [
    {
     "name": "stdout",
     "output_type": "stream",
     "text": [
      "       n - x\n",
      "(1 - p)     \n"
     ]
    }
   ],
   "source": [
    "pprint(my_f_3_part_2)"
   ]
  },
  {
   "cell_type": "code",
   "execution_count": 30,
   "metadata": {},
   "outputs": [
    {
     "name": "stdout",
     "output_type": "stream",
     "text": [
      "p**x*(1 - p)**(n - x)*factorial(n)/(factorial(x)*factorial(n - x))\n"
     ]
    }
   ],
   "source": [
    "my_f_3=my_f_3_part_0*my_f_3_part_1*my_f_3_part_2\n",
    "print(my_f_3)"
   ]
  },
  {
   "cell_type": "code",
   "execution_count": 31,
   "metadata": {},
   "outputs": [
    {
     "name": "stdout",
     "output_type": "stream",
     "text": [
      " x        n - x   \n",
      "p ⋅(1 - p)     ⋅n!\n",
      "──────────────────\n",
      "   x!⋅(n - x)!    \n"
     ]
    }
   ],
   "source": [
    "pprint(my_f_3)"
   ]
  },
  {
   "cell_type": "code",
   "execution_count": 32,
   "metadata": {},
   "outputs": [
    {
     "data": {
      "image/png": "[encoded data removed]",
      "text/plain": [
       "<Figure size 432x288 with 1 Axes>"
      ]
     },
     "metadata": {
      "needs_background": "light"
     },
     "output_type": "display_data"
    },
    {
     "data": {
      "text/plain": [
       "<sympy.plotting.plot.Plot at 0x1dc2fdc88c8>"
      ]
     },
     "execution_count": 32,
     "metadata": {},
     "output_type": "execute_result"
    }
   ],
   "source": [
    "sym.plot(my_f_3.subs({p:0.5,n:50}), (x, 0, 50), title='Binomial Distribution Plot for n=50')"
   ]
  },
  {
   "cell_type": "code",
   "execution_count": null,
   "metadata": {},
   "outputs": [],
   "source": []
  }
 ],
 "metadata": {
  "kernelspec": {
   "display_name": "Python 3",
   "language": "python",
   "name": "python3"
  },
  "language_info": {
   "codemirror_mode": {
    "name": "ipython",
    "version": 3
   },
   "file_extension": ".py",
   "mimetype": "text/x-python",
   "name": "python",
   "nbconvert_exporter": "python",
   "pygments_lexer": "ipython3",
   "version": "3.7.6"
  }
 },
 "nbformat": 4,
 "nbformat_minor": 4
}
